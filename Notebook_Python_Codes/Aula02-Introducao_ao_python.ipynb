{
 "cells": [
  {
   "cell_type": "markdown",
   "metadata": {},
   "source": [
    "# Aula 01 - Introdução ao Python"
   ]
  },
  {
   "cell_type": "markdown",
   "metadata": {},
   "source": [
    "### 1. Declaração de variáveis e tipos de dados"
   ]
  },
  {
   "cell_type": "code",
   "execution_count": 12,
   "metadata": {},
   "outputs": [
    {
     "name": "stdout",
     "output_type": "stream",
     "text": [
      "Boa tarde! Meu nome é Julio Macedo, tenho 22 anos e 1.7 de altura. O meu status universitário é True\n",
      "<class 'str'> <class 'int'> <class 'float'> <class 'bool'>\n",
      "Boa tarde! Meu nome é Julio Macedo, tenho 22.0 anos e 1 de altura. O meu status universitário é False\n",
      "<class 'str'> <class 'float'> <class 'int'> <class 'bool'>\n",
      "Boa tarde! Meu nome é 1, tenho Julio Macedo anos e 22.0 de altura. O meu status universitário é False\n"
     ]
    }
   ],
   "source": [
    "nome = \"Julio Macedo\"\n",
    "idade = 22\n",
    "altura = 1.70\n",
    "universitario = True\n",
    "\n",
    "print(f'Boa tarde! Meu nome é {nome}, tenho {idade} anos e {altura} de altura. O meu status universitário é {universitario}')\n",
    "print(type(nome), type(idade), type(altura), type(universitario))\n",
    "\n",
    "altura = int(1.70)\n",
    "idade = float(22)\n",
    "universitario = bool(0)\n",
    "print(f'Boa tarde! Meu nome é {nome}, tenho {idade} anos e {altura} de altura. O meu status universitário é {universitario}')\n",
    "print(type(nome), type(idade), type(altura), type(universitario))\n",
    "\n",
    "print('Boa tarde! Meu nome é {}, tenho {} anos e {} de altura. O meu status universitário é {}'.format(nome, idade, altura, universitario))"
   ]
  },
  {
   "cell_type": "code",
   "execution_count": 17,
   "metadata": {},
   "outputs": [
    {
     "name": "stdout",
     "output_type": "stream",
     "text": [
      "Boa tarde! Meu nome é Julio, tenho 22 anos e 1.7 de altura. O meu status universitário é True\n",
      "[['Julio', 22, 1.7, True], ['banana', 'pera', 'uva']]\n",
      "O Julio, de 22 anos, comprou uva\n"
     ]
    }
   ],
   "source": [
    "lista_de_compras = [\"banana\", \"pera\", \"uva\"]\n",
    "usuario = ['Julio', 22, 1.70, True]\n",
    "\n",
    "print(f'Boa tarde! Meu nome é {usuario[0]}, tenho {usuario[1]} anos e {usuario[2]} de altura. O meu status universitário é {usuario[3]}')\n",
    "\n",
    "lista_de_listas = [['Julio', 22, 1.70, True], [\"banana\", \"pera\", \"uva\"]]\n",
    "print(lista_de_listas)\n",
    "print(f'O {lista_de_listas[0][0]}, de {lista_de_listas[0][1]} anos, comprou {lista_de_listas[1][2]}')"
   ]
  },
  {
   "cell_type": "code",
   "execution_count": 18,
   "metadata": {},
   "outputs": [
    {
     "name": "stdout",
     "output_type": "stream",
     "text": [
      "Boa tarde! Meu nome é Julio, tenho 22 anos e 1.7 de altura. O meu status universitário é True\n"
     ]
    }
   ],
   "source": [
    "usuario = ('Julio', 22, 1.70, True)\n",
    "print(f'Boa tarde! Meu nome é {usuario[0]}, tenho {usuario[1]} anos e {usuario[2]} de altura. O meu status universitário é {usuario[3]}')"
   ]
  },
  {
   "cell_type": "code",
   "execution_count": 23,
   "metadata": {},
   "outputs": [
    {
     "name": "stdout",
     "output_type": "stream",
     "text": [
      "banana\n"
     ]
    }
   ],
   "source": [
    "informacoes_user = {'nome': 'Julio Macedo',\n",
    "                    'idade': 22,\n",
    "                    'altura': 1.70,\n",
    "                    'dicionario': {'pai': 'Jose',\n",
    "                                   'mae': 'Maria'},\n",
    "                    'lista': ['banana', 'uva']}\n",
    "print(informacoes_user['lista'][0])"
   ]
  },
  {
   "cell_type": "markdown",
   "metadata": {},
   "source": [
    "### 2. Entrada de dados"
   ]
  },
  {
   "cell_type": "code",
   "execution_count": 31,
   "metadata": {},
   "outputs": [],
   "source": [
    "nome = input('Qual seu nome?')\n",
    "idade = int(input('Qual a sua idade? '))\n",
    "lista = eval(input('Informe a lista de compras '))"
   ]
  },
  {
   "cell_type": "markdown",
   "metadata": {},
   "source": [
    "### 3. Operadores matemáticos"
   ]
  },
  {
   "cell_type": "code",
   "execution_count": 35,
   "metadata": {},
   "outputs": [
    {
     "name": "stdout",
     "output_type": "stream",
     "text": [
      "5\n",
      "-1\n",
      "6\n",
      "0.6666666666666666\n",
      "2\n",
      "0\n",
      "8\n"
     ]
    }
   ],
   "source": [
    "a, b = 2, 3\n",
    "add = a + b\n",
    "print(add)\n",
    "sub = a - b\n",
    "print(sub)\n",
    "mult = a * b\n",
    "print(mult)\n",
    "div = a/b\n",
    "print(div)\n",
    "\n",
    "resto_div = a%b\n",
    "print(resto_div)\n",
    "inteira_div = a//b\n",
    "print(inteira_div)\n",
    "exp = a**b\n",
    "print(exp)"
   ]
  },
  {
   "cell_type": "markdown",
   "metadata": {},
   "source": [
    "### 4. Estruturas de decisão"
   ]
  },
  {
   "cell_type": "code",
   "execution_count": 52,
   "metadata": {},
   "outputs": [
    {
     "name": "stdout",
     "output_type": "stream",
     "text": [
      "fora do if\n",
      "30 ou mais anos, e menos de 50\n",
      "Não é o Julio\n"
     ]
    }
   ],
   "source": [
    "nome = 'julio Macedo'\n",
    "idade = 30\n",
    "universitario = True\n",
    "# and, or, not\n",
    "if(nome == 'Julio Macedo' and idade == 22 or idade == 19 and universitario):\n",
    "    print('é o Julio')\n",
    "\n",
    "print('fora do if')\n",
    "\n",
    "if(idade < 30):\n",
    "    print('menos de 30 anos')\n",
    "elif(idade < 50):\n",
    "    print('30 ou mais anos, e menos de 50')\n",
    "else:\n",
    "    print('30 ou mais anos')\n",
    "\n",
    "if(nome != 'Julio Macedo'):\n",
    "    print('Não é o Julio')"
   ]
  },
  {
   "cell_type": "markdown",
   "metadata": {},
   "source": [
    "### 5. Estruturas de repetição"
   ]
  },
  {
   "cell_type": "code",
   "execution_count": 55,
   "metadata": {},
   "outputs": [
    {
     "name": "stdout",
     "output_type": "stream",
     "text": [
      "0\n",
      "1\n",
      "2\n",
      "3\n",
      "4\n",
      "5\n",
      "6\n",
      "7\n",
      "8\n",
      "9\n",
      "Esta na lista!\n"
     ]
    }
   ],
   "source": [
    "contador = 0\n",
    "while contador < 10:\n",
    "    print(contador)\n",
    "    contador+=1\n",
    "\n",
    "lista_nomes = ['Lucas', 'Davi', 'Debora']\n",
    "consta = True\n",
    "while(consta):\n",
    "    nome = input('Qual seu nome? ')\n",
    "    if(nome in lista_nomes):\n",
    "        print('Esta na lista!')\n",
    "        consta = False\n",
    "    else:\n",
    "        print('Não esta na lista!')"
   ]
  },
  {
   "cell_type": "code",
   "execution_count": 61,
   "metadata": {},
   "outputs": [
    {
     "name": "stdout",
     "output_type": "stream",
     "text": [
      "Lucas\n",
      "Davi\n",
      "Debora\n",
      "Lucas\n",
      "Davi\n",
      "Debora\n",
      "0 Lucas\n",
      "1 Davi\n",
      "2 Debora\n",
      "nome Julio Macedo\n",
      "idade 22\n",
      "altura 1.7\n",
      "dicionario {'pai': 'Jose', 'mae': 'Maria'}\n",
      "lista ['banana', 'uva']\n"
     ]
    }
   ],
   "source": [
    "lista_nomes = ['Lucas', 'Davi', 'Debora']\n",
    "for valor in range(len(lista_nomes)):\n",
    "    print(lista_nomes[valor])\n",
    "\n",
    "for nome in lista_nomes:\n",
    "    print(nome)\n",
    "\n",
    "for index, valor in enumerate(lista_nomes):\n",
    "    print(index, valor)\n",
    "\n",
    "informacoes_user = {'nome': 'Julio Macedo',\n",
    "                    'idade': 22,\n",
    "                    'altura': 1.70,\n",
    "                    'dicionario': {'pai': 'Jose',\n",
    "                                   'mae': 'Maria'},\n",
    "                    'lista': ['banana', 'uva']}\n",
    "\n",
    "for chave, valor in informacoes_user.items():\n",
    "    print(chave, valor)"
   ]
  }
 ],
 "metadata": {
  "kernelspec": {
   "display_name": ".env",
   "language": "python",
   "name": "python3"
  },
  "language_info": {
   "codemirror_mode": {
    "name": "ipython",
    "version": 3
   },
   "file_extension": ".py",
   "mimetype": "text/x-python",
   "name": "python",
   "nbconvert_exporter": "python",
   "pygments_lexer": "ipython3",
   "version": "3.11.4"
  },
  "orig_nbformat": 4
 },
 "nbformat": 4,
 "nbformat_minor": 2
}
