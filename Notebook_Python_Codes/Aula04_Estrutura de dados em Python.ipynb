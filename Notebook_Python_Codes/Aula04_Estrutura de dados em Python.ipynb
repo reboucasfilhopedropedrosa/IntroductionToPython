{
  "nbformat": 4,
  "nbformat_minor": 0,
  "metadata": {
    "kernelspec": {
      "display_name": "Python 3",
      "name": "python3"
    },
    "language_info": {
      "codemirror_mode": {
        "name": "ipython",
        "version": 3
      },
      "file_extension": ".py",
      "mimetype": "text/x-python",
      "name": "python",
      "nbconvert_exporter": "python",
      "pygments_lexer": "ipython3",
      "version": "3.8.10"
    },
    "colab": {
      "provenance": [],
      "gpuType": "T4"
    },
    "accelerator": "GPU"
  },
  "cells": [
    {
      "cell_type": "code",
      "source": [
        "from google.colab import drive\n",
        "drive.mount('/content/drive')"
      ],
      "metadata": {
        "colab": {
          "base_uri": "https://localhost:8080/"
        },
        "id": "fC9S3m5UGHUe",
        "outputId": "ca2939ac-6de5-4dd4-ffcc-2c6ece22910a"
      },
      "execution_count": null,
      "outputs": [
        {
          "output_type": "stream",
          "name": "stdout",
          "text": [
            "Mounted at /content/drive\n"
          ]
        }
      ]
    },
    {
      "cell_type": "markdown",
      "metadata": {
        "id": "qN1QhsYUbxJY"
      },
      "source": [
        "<center>  \n",
        "\n",
        "# **Introdução à programação em Python**  \n",
        "\n",
        "<br>  \n",
        "\n",
        "</center>\n",
        "\n",
        "---"
      ]
    },
    {
      "cell_type": "markdown",
      "metadata": {
        "id": "FuIGr2mazLWN"
      },
      "source": [
        "# **1) Introdução ao conjuntos de dados**"
      ]
    },
    {
      "cell_type": "markdown",
      "metadata": {
        "id": "b3vBjYN4hqOV"
      },
      "source": [
        "###**1.1) Vetores**"
      ]
    },
    {
      "cell_type": "markdown",
      "metadata": {
        "id": "Rzd0y6njtK_5"
      },
      "source": [
        "> 📚 São dados que estão em uma espécie de linha:,  com isso temos uma **extensão de vetores**, como a **lista**, **tupla** e outros.\n",
        "\n",
        "\n"
      ]
    },
    {
      "cell_type": "markdown",
      "source": [
        "###**1.1.1) Lista**"
      ],
      "metadata": {
        "id": "yZAaPGQD75fp"
      }
    },
    {
      "cell_type": "markdown",
      "source": [
        "> Lista é uma estrutura de dados composta por itens organizado de forma linear, podendo ser acessado pelos seus índices, nele também podemos ter algumas operações matemáticas, tais como soma de lista, multiplicação, divisão e entre outros. A seguir vamos ver exemplos de de lista e operações que podem ser feitas. 📇\n"
      ],
      "metadata": {
        "id": "goTMxLgI7_w-"
      }
    },
    {
      "cell_type": "code",
      "source": [
        "lista_1 = [1,2,3]\n",
        "print(lista_1)"
      ],
      "metadata": {
        "id": "8GfZEkME8t5b",
        "colab": {
          "base_uri": "https://localhost:8080/"
        },
        "outputId": "b82d71f9-d0bd-430e-d8e2-ce3c757e1edb"
      },
      "execution_count": null,
      "outputs": [
        {
          "output_type": "stream",
          "name": "stdout",
          "text": [
            "[1, 2, 3]\n"
          ]
        }
      ]
    },
    {
      "cell_type": "code",
      "source": [
        "lista_2 = ['peixe', 1, 'molusco',3]\n",
        "print(lista_2)"
      ],
      "metadata": {
        "id": "IPIuCfzG74qQ",
        "colab": {
          "base_uri": "https://localhost:8080/"
        },
        "outputId": "cb7853a0-e312-4775-e622-7d8068a53cf8"
      },
      "execution_count": null,
      "outputs": [
        {
          "output_type": "stream",
          "name": "stdout",
          "text": [
            "['peixe', 1, 'molusco', 3]\n"
          ]
        }
      ]
    },
    {
      "cell_type": "code",
      "source": [
        "lista_2.append('sufista')\n",
        "print(lista_2)"
      ],
      "metadata": {
        "id": "3dViKNFf9VDc",
        "colab": {
          "base_uri": "https://localhost:8080/"
        },
        "outputId": "8b811c6a-9397-435a-bf27-1a59930df09b"
      },
      "execution_count": null,
      "outputs": [
        {
          "output_type": "stream",
          "name": "stdout",
          "text": [
            "['peixe', 1, 'molusco', 3, 'sufista']\n"
          ]
        }
      ]
    },
    {
      "cell_type": "markdown",
      "source": [
        "###**1.1.2) Tupla**"
      ],
      "metadata": {
        "id": "aefez8Ax70cN"
      }
    },
    {
      "cell_type": "markdown",
      "source": [
        "> Já a tupla é semelhante, um vetor que é composto por itens organizados de forma linear. A diferença entre a lista é que na tupla não podemos altera-lá. Mas podemos utilizar o artifício de pesquisa por índice 📇"
      ],
      "metadata": {
        "id": "9yz-DHIoCFMx"
      }
    },
    {
      "cell_type": "code",
      "source": [
        "tupla = (1,2,3)\n",
        "print(tupla)"
      ],
      "metadata": {
        "id": "lSxjK-wzCm0W",
        "colab": {
          "base_uri": "https://localhost:8080/"
        },
        "outputId": "5cb0d511-fa22-4142-ad69-11354a296a86"
      },
      "execution_count": null,
      "outputs": [
        {
          "output_type": "stream",
          "name": "stdout",
          "text": [
            "(1, 2, 3)\n"
          ]
        }
      ]
    },
    {
      "cell_type": "code",
      "source": [
        "tupla_2 = ([1,2,3],['oi', 'tudo', 'bem'])\n",
        "print(tupla_2)"
      ],
      "metadata": {
        "id": "9UcNJ9hICqeN",
        "colab": {
          "base_uri": "https://localhost:8080/"
        },
        "outputId": "addbe5e5-7532-449d-fa11-43d177ee8625"
      },
      "execution_count": null,
      "outputs": [
        {
          "output_type": "stream",
          "name": "stdout",
          "text": [
            "([1, 2, 3], ['oi', 'tudo', 'bem'])\n"
          ]
        }
      ]
    },
    {
      "cell_type": "code",
      "source": [
        "print(tupla[0])"
      ],
      "metadata": {
        "id": "GsYwJzMJC0Xf",
        "colab": {
          "base_uri": "https://localhost:8080/"
        },
        "outputId": "161aa3d4-75d4-4291-d7c0-1be95810fd28"
      },
      "execution_count": null,
      "outputs": [
        {
          "output_type": "stream",
          "name": "stdout",
          "text": [
            "1\n"
          ]
        }
      ]
    },
    {
      "cell_type": "markdown",
      "source": [
        "###**1.1.3) Dicionários**"
      ],
      "metadata": {
        "id": "eqt5JnECDUqf"
      }
    },
    {
      "cell_type": "markdown",
      "source": [
        "> Estes são estruturas de códigos que compreendem um conjuto de pares chave e valor. o dicionário são estruturas mutáveis. Podemos também adicionar e remover.📇\n",
        "> ![Captura de tela 2023-07-09 164904.png](data:image/png;base64,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)"
      ],
      "metadata": {
        "id": "9a44FLEyDj5m"
      }
    },
    {
      "cell_type": "code",
      "source": [
        "dic = {'aluno_A':8, 'aluno_B': 6, 'aluno_C':9}\n",
        "print(dic)"
      ],
      "metadata": {
        "id": "XNMtMscDDi1Y",
        "colab": {
          "base_uri": "https://localhost:8080/"
        },
        "outputId": "2cd9b407-5f77-41d6-9314-4cd982209422"
      },
      "execution_count": null,
      "outputs": [
        {
          "output_type": "stream",
          "name": "stdout",
          "text": [
            "{'aluno_A': 8, 'aluno_B': 6, 'aluno_C': 9}\n"
          ]
        }
      ]
    },
    {
      "cell_type": "code",
      "source": [
        "#Adicionar um item do dicionário\n",
        "bandas_dicionario = {\"Rock Alternativo\":\"Red Hot Chili Peppers\", \"Indie Rock\": \"The Strokes\", \"Rock Classic\":\"Queen\"}\n",
        "\n",
        "#Método update\n",
        "bandas_dicionario.update({\"Country Rock\": \"Iron Maiden\"})\n",
        "print(bandas_dicionario)\n",
        "\n",
        "#Pela nova chave e valor associado\n",
        "bandas_dicionario[\"Country Rock\"] = \"Black Sabbath\"\n",
        "print(bandas_dicionario)"
      ],
      "metadata": {
        "id": "cZZveSzJNz2d",
        "colab": {
          "base_uri": "https://localhost:8080/"
        },
        "outputId": "21bd5947-9671-46dd-e88d-34926ff25573"
      },
      "execution_count": null,
      "outputs": [
        {
          "output_type": "stream",
          "name": "stdout",
          "text": [
            "{'Rock Alternativo': 'Red Hot Chili Peppers', 'Indie Rock': 'The Strokes', 'Rock Classic': 'Queen', 'Country Rock': 'Iron Maiden'}\n",
            "{'Rock Alternativo': 'Red Hot Chili Peppers', 'Indie Rock': 'The Strokes', 'Rock Classic': 'Queen', 'Country Rock': 'Black Sabbath'}\n"
          ]
        }
      ]
    },
    {
      "cell_type": "code",
      "source": [
        "#Remover um item do dicionário\n",
        "bandas_dicionario = {\"Rock Alternativo\":\"Red Hot Chili Peppers\", \"Indie Rock\": \"The Strokes\", \"Rock Classic\":\"Queen\"}\n",
        "\n",
        "#Método Remove\n",
        "bandas_dicionario.pop(\"Country Rock\", None)\n",
        "print(bandas_dicionario)\n",
        "\n",
        "#Instrução Del\n",
        "del bandas_dicionario[\"Rock Alternativo\"]\n",
        "print(bandas_dicionario)"
      ],
      "metadata": {
        "id": "ppm4X_ACN2NF",
        "colab": {
          "base_uri": "https://localhost:8080/"
        },
        "outputId": "4edb72c0-a9e1-4d00-af5e-77465cd5ba6b"
      },
      "execution_count": null,
      "outputs": [
        {
          "output_type": "stream",
          "name": "stdout",
          "text": [
            "{'Rock Alternativo': 'Red Hot Chili Peppers', 'Indie Rock': 'The Strokes', 'Rock Classic': 'Queen'}\n",
            "{'Indie Rock': 'The Strokes', 'Rock Classic': 'Queen'}\n"
          ]
        }
      ]
    },
    {
      "cell_type": "markdown",
      "source": [
        "###**1.1.4) Conjuntos (sets)**"
      ],
      "metadata": {
        "id": "zac1LIxCKKwm"
      }
    },
    {
      "cell_type": "markdown",
      "source": [
        "> São coleções de elementos não-ordenados que não permite itens duplicados, sendo também mutáveis, mas seus itens devem ser imutáveis. Podem ser excluidos ou adicionados, alterados, também possuem operações como união, interseção, diferença e diferença assimétrica.📇"
      ],
      "metadata": {
        "id": "VnzMTzX2KjMt"
      }
    },
    {
      "cell_type": "code",
      "source": [
        "# Sets no Python\n",
        "bandas_sets = {\"Queen\", \"Scorpions\"}\n",
        "print(bandas_sets)"
      ],
      "metadata": {
        "id": "bOff8wYlL9WM",
        "colab": {
          "base_uri": "https://localhost:8080/"
        },
        "outputId": "84349a59-a075-42d3-dc97-0e47a55a96bc"
      },
      "execution_count": null,
      "outputs": [
        {
          "output_type": "stream",
          "name": "stdout",
          "text": [
            "{'Queen', 'Scorpions'}\n"
          ]
        }
      ]
    },
    {
      "cell_type": "code",
      "source": [
        "#Criar um set vazio.\n",
        "bandas_rock = set()\n",
        "print(type(bandas_rock))"
      ],
      "metadata": {
        "id": "b0a5IRFzMDNl",
        "colab": {
          "base_uri": "https://localhost:8080/"
        },
        "outputId": "d791c935-37bb-45ca-d271-076890d1d257"
      },
      "execution_count": null,
      "outputs": [
        {
          "output_type": "stream",
          "name": "stdout",
          "text": [
            "<class 'set'>\n"
          ]
        }
      ]
    },
    {
      "cell_type": "code",
      "source": [
        "#Adicionando um item no Sets no Python\n",
        "bandas_rock_alternativo = {\"Red Hot Chili Peppers\", \"Muse\", \"The Killers\"}\n",
        "bandas_rock_alternativo.add(\"Pearl Jam\")\n",
        "print(bandas_rock_alternativo)"
      ],
      "metadata": {
        "id": "KeL-L1CLMe2F",
        "colab": {
          "base_uri": "https://localhost:8080/"
        },
        "outputId": "d5d4080c-f838-4906-af06-1f8ecf991f2e"
      },
      "execution_count": null,
      "outputs": [
        {
          "output_type": "stream",
          "name": "stdout",
          "text": [
            "{'Pearl Jam', 'Muse', 'Red Hot Chili Peppers', 'The Killers'}\n"
          ]
        }
      ]
    },
    {
      "cell_type": "code",
      "source": [
        "# Sets igonoram itens duplicados e retornam apenas os itens únicos\n",
        "bandas_sets = {\"The Rolling Stones\", \"Queen\", \"Scorpions\", \"Pink Floyd\", \"Queen\"}\n",
        "print(bandas_sets)"
      ],
      "metadata": {
        "id": "KNzBuRQ9MNCf",
        "colab": {
          "base_uri": "https://localhost:8080/"
        },
        "outputId": "62db7347-e4fb-40e3-b9dd-7e6140154d5a"
      },
      "execution_count": null,
      "outputs": [
        {
          "output_type": "stream",
          "name": "stdout",
          "text": [
            "{'Queen', 'Scorpions', 'The Rolling Stones', 'Pink Floyd'}\n"
          ]
        }
      ]
    },
    {
      "cell_type": "code",
      "source": [
        "#Operações com Sets no Python\n",
        "bandas_rock_alternativo = {\"Red Hot Chili Peppers\", \"Muse\", \"The Killers\"}\n",
        "bandas_indie_rock = {\"The Killers\", \"Muse\", \"The Strokes\"}\n",
        "\n",
        "# União\n",
        "print(\"União - Todas as bandas (Únicas) \")\n",
        "print(bandas_rock_alternativo | bandas_indie_rock)\n",
        "print(\"==========================================================\")\n",
        "\n",
        "# Interseção\n",
        "print(\"Interseção - Bandas em comum no rock alternativo e indie rock\")\n",
        "print(bandas_rock_alternativo & bandas_indie_rock)\n",
        "print(\"==========================================================\")\n",
        "\n",
        "# Diferença\n",
        "print(\"Diferença - Banda que está no rock alternativo mas não está no indie rock\")\n",
        "print(bandas_rock_alternativo - bandas_indie_rock)\n",
        "print(\"==========================================================\")\n",
        "\n",
        "# Diferença Simétrica\n",
        "print(\"Diferença Simétrica - Bandas que estão apenas em rock alternativo ou apenas em indie rock\")\n",
        "print(bandas_rock_alternativo ^ bandas_indie_rock)\n",
        "print(\"==========================================================\")"
      ],
      "metadata": {
        "id": "b2wVVK6lMWrr",
        "colab": {
          "base_uri": "https://localhost:8080/"
        },
        "outputId": "50ad707a-693d-4015-9f07-827d5a0cb45d"
      },
      "execution_count": null,
      "outputs": [
        {
          "output_type": "stream",
          "name": "stdout",
          "text": [
            "União - Todas as bandas (Únicas) \n",
            "{'The Strokes', 'The Killers', 'Muse', 'Red Hot Chili Peppers'}\n",
            "==========================================================\n",
            "Interseção - Bandas em comum no rock alternativo e indie rock\n",
            "{'The Killers', 'Muse'}\n",
            "==========================================================\n",
            "Diferença - Banda que está no rock alternativo mas não está no indie rock\n",
            "{'Red Hot Chili Peppers'}\n",
            "==========================================================\n",
            "Diferença Simétrica - Bandas que estão apenas em rock alternativo ou apenas em indie rock\n",
            "{'Red Hot Chili Peppers', 'The Strokes'}\n",
            "==========================================================\n"
          ]
        }
      ]
    },
    {
      "cell_type": "markdown",
      "metadata": {
        "id": "W-nGCQDF4ceD"
      },
      "source": [
        "### **1.2) Matriz**"
      ]
    },
    {
      "cell_type": "markdown",
      "source": [
        "> 📚 Utilizamos matrizes para armezenar mais valores, sendo esse armazenados em linhas e colunas. No sconseguimos tabém fazer operações nelas, como soma, subtrção, multiplicação e divisão."
      ],
      "metadata": {
        "id": "dHVP4If6Ckw4"
      }
    },
    {
      "cell_type": "code",
      "source": [
        "import numpy as np"
      ],
      "metadata": {
        "id": "CXCsE08BqlhD"
      },
      "execution_count": null,
      "outputs": []
    },
    {
      "cell_type": "code",
      "source": [
        "matriz = np.array([[2, 3, 1],\n",
        "                   [4, 5, 7]])"
      ],
      "metadata": {
        "id": "iYC0GEbJqo7P"
      },
      "execution_count": null,
      "outputs": []
    },
    {
      "cell_type": "code",
      "source": [
        "matriz"
      ],
      "metadata": {
        "id": "sPD1x7umqqWn",
        "colab": {
          "base_uri": "https://localhost:8080/"
        },
        "outputId": "04bd472f-2f55-4ecb-cc8c-02ee00cd7ae8"
      },
      "execution_count": null,
      "outputs": [
        {
          "output_type": "execute_result",
          "data": {
            "text/plain": [
              "array([[2, 3, 1],\n",
              "       [4, 5, 7]])"
            ]
          },
          "metadata": {},
          "execution_count": 18
        }
      ]
    },
    {
      "cell_type": "code",
      "source": [
        "matriz.shape"
      ],
      "metadata": {
        "id": "BxvUkfBNqsiH",
        "colab": {
          "base_uri": "https://localhost:8080/"
        },
        "outputId": "362380b4-77b5-4ac3-ac74-d751a0060cbb"
      },
      "execution_count": null,
      "outputs": [
        {
          "output_type": "execute_result",
          "data": {
            "text/plain": [
              "(2, 3)"
            ]
          },
          "metadata": {},
          "execution_count": 19
        }
      ]
    },
    {
      "cell_type": "code",
      "source": [
        "matriz[0][2]"
      ],
      "metadata": {
        "id": "Mx_Sjxpeqxx-",
        "colab": {
          "base_uri": "https://localhost:8080/"
        },
        "outputId": "38ea4e2e-8603-4c29-b1f1-eab473cbd403"
      },
      "execution_count": null,
      "outputs": [
        {
          "output_type": "execute_result",
          "data": {
            "text/plain": [
              "1"
            ]
          },
          "metadata": {},
          "execution_count": 20
        }
      ]
    },
    {
      "cell_type": "code",
      "source": [
        "# Matriz 1D com 5 elementos\n",
        "matriz1 = np.arange(6, 11)\n",
        "# Matriz 1D com 5 elementos\n",
        "matriz2 = np.array([1, 2, 3, 4, 5])\n",
        "# Soma entre os elementos das matrizes: matriz1 + Matriz2\n",
        "matriz3 = matriz1 + matriz2\n",
        "# Subtração entre os elementos das matrizes: matriz1 + Matriz2\n",
        "matriz4 = matriz1 - matriz2\n",
        "# Multiplicação entre os elementos das matrizes: matriz1 + Matriz2\n",
        "matriz5 = matriz1 * matriz2\n",
        "# Divisão entre os elementos das matrizes: matriz1 + Matriz2\n",
        "matriz6 = matriz1 / matriz2\n",
        "print(f\"Matriz1 : {matriz1}\")\n",
        "print(f\"Matriz2 : {matriz2}\")\n",
        "print()\n",
        "print(f\"matriz1 + matriz2: {matriz3}\")\n",
        "print(f\"matriz1 - matriz2: {matriz4}\")\n",
        "print(f\"matriz1 * matriz2: {matriz5}\")\n",
        "print(f\"matriz1 / matriz2: {matriz6}\")"
      ],
      "metadata": {
        "id": "9NWzm99xRrF4",
        "colab": {
          "base_uri": "https://localhost:8080/"
        },
        "outputId": "8873764b-89b6-4d7e-d499-4aa43fa200fc"
      },
      "execution_count": null,
      "outputs": [
        {
          "output_type": "stream",
          "name": "stdout",
          "text": [
            "Matriz1 : [ 6  7  8  9 10]\n",
            "Matriz2 : [1 2 3 4 5]\n",
            "\n",
            "matriz1 + matriz2: [ 7  9 11 13 15]\n",
            "matriz1 - matriz2: [5 5 5 5 5]\n",
            "matriz1 * matriz2: [ 6 14 24 36 50]\n",
            "matriz1 / matriz2: [6.         3.5        2.66666667 2.25       2.        ]\n"
          ]
        }
      ]
    },
    {
      "cell_type": "markdown",
      "metadata": {
        "id": "9XYwemkIek0S"
      },
      "source": [
        "# - - -"
      ]
    }
  ]
}