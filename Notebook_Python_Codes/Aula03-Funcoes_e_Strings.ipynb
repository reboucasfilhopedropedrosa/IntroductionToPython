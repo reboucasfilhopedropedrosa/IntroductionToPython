{
 "cells": [
  {
   "cell_type": "markdown",
   "metadata": {},
   "source": [
    "# 1. Funções"
   ]
  },
  {
   "cell_type": "code",
   "execution_count": 13,
   "metadata": {},
   "outputs": [],
   "source": [
    "from utils import *"
   ]
  },
  {
   "cell_type": "markdown",
   "metadata": {},
   "source": [
    "##### 1.1 Criação de funções"
   ]
  },
  {
   "cell_type": "code",
   "execution_count": 7,
   "metadata": {},
   "outputs": [
    {
     "name": "stdout",
     "output_type": "stream",
     "text": [
      "Meu nome é Pedro, e tenho 22 anos\n"
     ]
    }
   ],
   "source": [
    "def imprime_nome(name, age):\n",
    "    print(f'Meu nome é {name}, e tenho {age} anos')\n",
    "\n",
    "imprime_nome('Pedro', 22)"
   ]
  },
  {
   "cell_type": "code",
   "execution_count": 9,
   "metadata": {},
   "outputs": [
    {
     "name": "stdout",
     "output_type": "stream",
     "text": [
      "Meu nome é Rafael, e tenho 32 anos\n"
     ]
    }
   ],
   "source": [
    "def imprime_nome(name, age=19):\n",
    "    print(f'Meu nome é {name}, e tenho {age} anos')\n",
    "\n",
    "imprime_nome(age=32, name='Rafael')"
   ]
  },
  {
   "cell_type": "code",
   "execution_count": 10,
   "metadata": {},
   "outputs": [
    {
     "name": "stdout",
     "output_type": "stream",
     "text": [
      "Meu nome é Julio, e tenho 22 anos\n"
     ]
    }
   ],
   "source": [
    "def imprime_nome(*infos):\n",
    "    print(f'Meu nome é {infos[0]}, e tenho {infos[1]} anos')\n",
    "\n",
    "imprime_nome('Julio', 22)"
   ]
  },
  {
   "cell_type": "code",
   "execution_count": 11,
   "metadata": {},
   "outputs": [
    {
     "name": "stdout",
     "output_type": "stream",
     "text": [
      "Meu nome é Julio, e tenho 22 anos\n"
     ]
    }
   ],
   "source": [
    "def imprime_nome(**infos):\n",
    "    print(f\"Meu nome é {infos['name']}, e tenho {infos['age']} anos\")\n",
    "\n",
    "imprime_nome(name='Julio', age=22)"
   ]
  },
  {
   "cell_type": "code",
   "execution_count": 12,
   "metadata": {},
   "outputs": [
    {
     "name": "stdout",
     "output_type": "stream",
     "text": [
      "Meu nome é Julio, e tenho 22 anos\n"
     ]
    }
   ],
   "source": [
    "def imprime_nome(infos):\n",
    "    print(f'Meu nome é {infos[0]}, e tenho {infos[1]} anos')\n",
    "\n",
    "infos = ['Julio', 22]\n",
    "imprime_nome(infos)"
   ]
  },
  {
   "cell_type": "code",
   "execution_count": 14,
   "metadata": {},
   "outputs": [
    {
     "name": "stdout",
     "output_type": "stream",
     "text": [
      "Estou em outro arquivo!!!\n"
     ]
    }
   ],
   "source": [
    "my_other_filer()"
   ]
  },
  {
   "cell_type": "code",
   "execution_count": 17,
   "metadata": {},
   "outputs": [
    {
     "name": "stdout",
     "output_type": "stream",
     "text": [
      "5 6\n"
     ]
    }
   ],
   "source": [
    "def calc(a, b):\n",
    "    add = a + b\n",
    "    mult = a * b\n",
    "\n",
    "    return add, mult\n",
    "\n",
    "result_add, result_mult = calc(2, 3)\n",
    "print(result_add, result_mult)\n"
   ]
  },
  {
   "cell_type": "code",
   "execution_count": 20,
   "metadata": {},
   "outputs": [],
   "source": [
    "def pass_function():\n",
    "    pass\n",
    "pass_function()\n",
    "\n",
    "if(True):\n",
    "    pass"
   ]
  },
  {
   "cell_type": "markdown",
   "metadata": {},
   "source": [
    "# 2. Manipulação de Strings"
   ]
  },
  {
   "cell_type": "markdown",
   "metadata": {},
   "source": [
    "#### 2.1 String em múltiplas linhas"
   ]
  },
  {
   "cell_type": "code",
   "execution_count": 21,
   "metadata": {},
   "outputs": [
    {
     "name": "stdout",
     "output_type": "stream",
     "text": [
      " \n",
      "Demonstração\n",
      "de\n",
      "String\n",
      "Com\n",
      "Multiplas\n",
      "Linhas\n",
      " \n"
     ]
    }
   ],
   "source": [
    "demo = \"\"\" \n",
    "Demonstração\n",
    "de\n",
    "String\n",
    "Com\n",
    "Multiplas\n",
    "Linhas\n",
    "\"\"\"\n",
    "print(demo)"
   ]
  },
  {
   "cell_type": "markdown",
   "metadata": {},
   "source": [
    "#### 2.2 Concatenação de Strings"
   ]
  },
  {
   "cell_type": "code",
   "execution_count": 24,
   "metadata": {},
   "outputs": [
    {
     "name": "stdout",
     "output_type": "stream",
     "text": [
      "Hello, World\n"
     ]
    }
   ],
   "source": [
    "a = 'Hello'\n",
    "b = 'World'\n",
    "\n",
    "message = a + \", \" + b\n",
    "print(message)"
   ]
  },
  {
   "cell_type": "markdown",
   "metadata": {},
   "source": [
    "#### 2.3 Iterando em Strings"
   ]
  },
  {
   "cell_type": "code",
   "execution_count": 41,
   "metadata": {},
   "outputs": [
    {
     "name": "stdout",
     "output_type": "stream",
     "text": [
      "o\n"
     ]
    }
   ],
   "source": [
    "name = 'Julio macedo chaves'\n",
    "\n",
    "print(name[11])"
   ]
  },
  {
   "cell_type": "code",
   "execution_count": 28,
   "metadata": {},
   "outputs": [
    {
     "name": "stdout",
     "output_type": "stream",
     "text": [
      "J\n",
      "u\n",
      "l\n",
      "i\n",
      "o\n",
      " \n",
      "M\n",
      "a\n",
      "c\n",
      "e\n",
      "d\n",
      "o\n"
     ]
    }
   ],
   "source": [
    "for caracteres in name:\n",
    "    print(caracteres)"
   ]
  },
  {
   "cell_type": "code",
   "execution_count": 29,
   "metadata": {},
   "outputs": [
    {
     "data": {
      "text/plain": [
       "12"
      ]
     },
     "execution_count": 29,
     "metadata": {},
     "output_type": "execute_result"
    }
   ],
   "source": [
    "len(name)"
   ]
  },
  {
   "cell_type": "code",
   "execution_count": 38,
   "metadata": {},
   "outputs": [
    {
     "name": "stdout",
     "output_type": "stream",
     "text": [
      "Julio está na String\n"
     ]
    }
   ],
   "source": [
    "if 'Julio' in name:\n",
    "    print('Julio está na String')"
   ]
  },
  {
   "cell_type": "markdown",
   "metadata": {},
   "source": [
    "#### 2.4 Modificando Strings"
   ]
  },
  {
   "cell_type": "code",
   "execution_count": 42,
   "metadata": {},
   "outputs": [
    {
     "name": "stdout",
     "output_type": "stream",
     "text": [
      "JULIO MACEDO CHAVES julio macedo chaves Julio Macedo Chaves\n"
     ]
    }
   ],
   "source": [
    "print(name.upper(), name.lower(), name.title())"
   ]
  },
  {
   "cell_type": "code",
   "execution_count": 49,
   "metadata": {},
   "outputs": [
    {
     "name": "stdout",
     "output_type": "stream",
     "text": [
      "É o Julio!\n"
     ]
    }
   ],
   "source": [
    "name = input('Informe seu nome: ')\n",
    "\n",
    "if name.lower() == 'julio':\n",
    "    print('É o Julio!')"
   ]
  },
  {
   "cell_type": "code",
   "execution_count": 53,
   "metadata": {},
   "outputs": [
    {
     "name": "stdout",
     "output_type": "stream",
     "text": [
      "É o Calleo!\n"
     ]
    }
   ],
   "source": [
    "nome_dois = 'Calleo Barroso'\n",
    "\n",
    "if nome_dois.strip() == 'Calleo Barroso':\n",
    "    print('É o Calleo!')"
   ]
  },
  {
   "cell_type": "code",
   "execution_count": 56,
   "metadata": {},
   "outputs": [
    {
     "name": "stdout",
     "output_type": "stream",
     "text": [
      "Kalleo Barroso\n"
     ]
    }
   ],
   "source": [
    "print(nome_dois.replace('C', 'K'))"
   ]
  },
  {
   "cell_type": "code",
   "execution_count": 63,
   "metadata": {},
   "outputs": [
    {
     "name": "stdout",
     "output_type": "stream",
     "text": [
      "['banana,', 'uva,', 'maçã,', 'pera,', 'bahia']\n",
      "['banana', ' uva', ' maçã', ' pera', ' bahia']\n"
     ]
    }
   ],
   "source": [
    "compras = \"banana, uva, maçã, pera, bahia\"\n",
    "\n",
    "print(compras.split())\n",
    "\n",
    "lista_de_compras = compras.split(',')\n",
    "print(lista_de_compras)"
   ]
  },
  {
   "cell_type": "code",
   "execution_count": 64,
   "metadata": {},
   "outputs": [
    {
     "name": "stdout",
     "output_type": "stream",
     "text": [
      "['banana', 'uva', 'maçã', 'pera', 'bahia']\n"
     ]
    }
   ],
   "source": [
    "nova_lista = [string.strip() for string in lista_de_compras]\n",
    "print(nova_lista)"
   ]
  },
  {
   "cell_type": "code",
   "execution_count": 65,
   "metadata": {},
   "outputs": [
    {
     "name": "stdout",
     "output_type": "stream",
     "text": [
      "['banana', 'bahia']\n"
     ]
    }
   ],
   "source": [
    "nova_lista = [string.strip() for string in lista_de_compras if \"b\" in string]\n",
    "print(nova_lista)"
   ]
  }
 ],
 "metadata": {
  "kernelspec": {
   "display_name": ".env",
   "language": "python",
   "name": "python3"
  },
  "language_info": {
   "codemirror_mode": {
    "name": "ipython",
    "version": 3
   },
   "file_extension": ".py",
   "mimetype": "text/x-python",
   "name": "python",
   "nbconvert_exporter": "python",
   "pygments_lexer": "ipython3",
   "version": "3.11.4"
  },
  "orig_nbformat": 4
 },
 "nbformat": 4,
 "nbformat_minor": 2
}
